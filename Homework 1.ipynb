{
 "cells": [
  {
   "cell_type": "markdown",
   "id": "c1b0c72f-5cce-49d0-a6fb-99903b6efdc7",
   "metadata": {},
   "source": [
    "# Homework 1\n",
    "### Rolando Santos\n",
    "### https://github.com/rsantos2032/DSCI401/\n",
    "### 2023-08-31"
   ]
  },
  {
   "cell_type": "code",
   "execution_count": 40,
   "id": "622646ee-a43c-487b-9953-04d6a01aea54",
   "metadata": {},
   "outputs": [],
   "source": [
    "# Loading the Dataset\n",
    "import pandas as pd\n",
    "cubs = pd.read_csv(\"https://raw.githubusercontent.com/gjm112/DSCI401/main/data/cubs_all_time.csv\")\n",
    "cubs = cubs.rename(columns = {\"G\":\"Games\", \"W\":\"Wins\", \"L\":\"Losses\", \"R\":\"Runs\"}) # Renaming column names for clarity"
   ]
  },
  {
   "cell_type": "markdown",
   "id": "a61c4756-7037-4466-981c-b2bec875e7f6",
   "metadata": {},
   "source": [
    "### Question 1: How many total games have the Cubs won and lost between 1876 and 2022?"
   ]
  },
  {
   "cell_type": "code",
   "execution_count": 41,
   "id": "dfc1c2c2-479c-4e64-a3b2-c869a0d4e757",
   "metadata": {},
   "outputs": [
    {
     "data": {
      "text/plain": [
       "11141"
      ]
     },
     "execution_count": 41,
     "metadata": {},
     "output_type": "execute_result"
    }
   ],
   "source": [
    "# Filtering our dataset to only include rows with years between 1876 and 2022\n",
    "cubs_filtered_years = cubs.loc[(cubs.Year > 1875) & (cubs.Year < 2023), [\"Year\", \"Games\", \"Wins\", \"Losses\"]]\n",
    "cubs_filtered_years[\"Wins\"].sum()"
   ]
  },
  {
   "cell_type": "markdown",
   "id": "406f40bf-f2d7-4919-89c2-628441991c08",
   "metadata": {},
   "source": [
    "After summing the entire wins column, we can see that the total number of cubs wins in the dataset is 11141."
   ]
  },
  {
   "cell_type": "markdown",
   "id": "7bc302f7-4658-4896-a768-92e161c5f256",
   "metadata": {},
   "source": [
    "### Question 2: What year did the Cubs score the most runs? What year did the Cubs score the fewest runs? Do you have any thoughts about the year that the Cubs scored the fewest runs?"
   ]
  },
  {
   "cell_type": "code",
   "execution_count": 42,
   "id": "266f980d-eabb-4507-9943-0bcce1379255",
   "metadata": {},
   "outputs": [
    {
     "data": {
      "text/html": [
       "<div>\n",
       "<style scoped>\n",
       "    .dataframe tbody tr th:only-of-type {\n",
       "        vertical-align: middle;\n",
       "    }\n",
       "\n",
       "    .dataframe tbody tr th {\n",
       "        vertical-align: top;\n",
       "    }\n",
       "\n",
       "    .dataframe thead th {\n",
       "        text-align: right;\n",
       "    }\n",
       "</style>\n",
       "<table border=\"1\" class=\"dataframe\">\n",
       "  <thead>\n",
       "    <tr style=\"text-align: right;\">\n",
       "      <th></th>\n",
       "      <th>Year</th>\n",
       "      <th>Games</th>\n",
       "      <th>Wins</th>\n",
       "      <th>Losses</th>\n",
       "      <th>Runs</th>\n",
       "    </tr>\n",
       "  </thead>\n",
       "  <tbody>\n",
       "    <tr>\n",
       "      <th>128</th>\n",
       "      <td>1894</td>\n",
       "      <td>137</td>\n",
       "      <td>57</td>\n",
       "      <td>75</td>\n",
       "      <td>1056</td>\n",
       "    </tr>\n",
       "    <tr>\n",
       "      <th>92</th>\n",
       "      <td>1930</td>\n",
       "      <td>156</td>\n",
       "      <td>90</td>\n",
       "      <td>64</td>\n",
       "      <td>998</td>\n",
       "    </tr>\n",
       "    <tr>\n",
       "      <th>93</th>\n",
       "      <td>1929</td>\n",
       "      <td>156</td>\n",
       "      <td>98</td>\n",
       "      <td>54</td>\n",
       "      <td>982</td>\n",
       "    </tr>\n",
       "    <tr>\n",
       "      <th>136</th>\n",
       "      <td>1886</td>\n",
       "      <td>126</td>\n",
       "      <td>90</td>\n",
       "      <td>34</td>\n",
       "      <td>900</td>\n",
       "    </tr>\n",
       "    <tr>\n",
       "      <th>133</th>\n",
       "      <td>1889</td>\n",
       "      <td>136</td>\n",
       "      <td>67</td>\n",
       "      <td>65</td>\n",
       "      <td>867</td>\n",
       "    </tr>\n",
       "  </tbody>\n",
       "</table>\n",
       "</div>"
      ],
      "text/plain": [
       "     Year  Games  Wins  Losses  Runs\n",
       "128  1894    137    57      75  1056\n",
       "92   1930    156    90      64   998\n",
       "93   1929    156    98      54   982\n",
       "136  1886    126    90      34   900\n",
       "133  1889    136    67      65   867"
      ]
     },
     "execution_count": 42,
     "metadata": {},
     "output_type": "execute_result"
    }
   ],
   "source": [
    "# Selecting Data with might find relevant\n",
    "cubs_sort = cubs[[\"Year\", \"Games\", \"Wins\", \"Losses\", \"Runs\"]]\n",
    "cubs_sort.sort_values(by = \"Runs\", ascending = False)[0:5] "
   ]
  },
  {
   "cell_type": "markdown",
   "id": "718d2f25-3d71-4889-bd4b-ecb1f80dfba7",
   "metadata": {},
   "source": [
    "The cubs scored their most runs in the year 1894 with a total of 1056 runs."
   ]
  },
  {
   "cell_type": "code",
   "execution_count": 43,
   "id": "6bbd75c1-3d70-4c76-9477-4e0dfa0e3a64",
   "metadata": {},
   "outputs": [
    {
     "data": {
      "text/html": [
       "<div>\n",
       "<style scoped>\n",
       "    .dataframe tbody tr th:only-of-type {\n",
       "        vertical-align: middle;\n",
       "    }\n",
       "\n",
       "    .dataframe tbody tr th {\n",
       "        vertical-align: top;\n",
       "    }\n",
       "\n",
       "    .dataframe thead th {\n",
       "        text-align: right;\n",
       "    }\n",
       "</style>\n",
       "<table border=\"1\" class=\"dataframe\">\n",
       "  <thead>\n",
       "    <tr style=\"text-align: right;\">\n",
       "      <th></th>\n",
       "      <th>Year</th>\n",
       "      <th>Games</th>\n",
       "      <th>Wins</th>\n",
       "      <th>Losses</th>\n",
       "      <th>Runs</th>\n",
       "    </tr>\n",
       "  </thead>\n",
       "  <tbody>\n",
       "    <tr>\n",
       "      <th>2</th>\n",
       "      <td>2020</td>\n",
       "      <td>60</td>\n",
       "      <td>34</td>\n",
       "      <td>26</td>\n",
       "      <td>265</td>\n",
       "    </tr>\n",
       "    <tr>\n",
       "      <th>145</th>\n",
       "      <td>1877</td>\n",
       "      <td>60</td>\n",
       "      <td>26</td>\n",
       "      <td>33</td>\n",
       "      <td>366</td>\n",
       "    </tr>\n",
       "    <tr>\n",
       "      <th>41</th>\n",
       "      <td>1981</td>\n",
       "      <td>106</td>\n",
       "      <td>38</td>\n",
       "      <td>65</td>\n",
       "      <td>370</td>\n",
       "    </tr>\n",
       "    <tr>\n",
       "      <th>144</th>\n",
       "      <td>1878</td>\n",
       "      <td>61</td>\n",
       "      <td>30</td>\n",
       "      <td>30</td>\n",
       "      <td>371</td>\n",
       "    </tr>\n",
       "    <tr>\n",
       "      <th>143</th>\n",
       "      <td>1879</td>\n",
       "      <td>83</td>\n",
       "      <td>46</td>\n",
       "      <td>33</td>\n",
       "      <td>437</td>\n",
       "    </tr>\n",
       "  </tbody>\n",
       "</table>\n",
       "</div>"
      ],
      "text/plain": [
       "     Year  Games  Wins  Losses  Runs\n",
       "2    2020     60    34      26   265\n",
       "145  1877     60    26      33   366\n",
       "41   1981    106    38      65   370\n",
       "144  1878     61    30      30   371\n",
       "143  1879     83    46      33   437"
      ]
     },
     "execution_count": 43,
     "metadata": {},
     "output_type": "execute_result"
    }
   ],
   "source": [
    "cubs_sort.sort_values(by = \"Runs\", ascending = True)[0:5] "
   ]
  },
  {
   "cell_type": "markdown",
   "id": "72ec7ed9-6dfe-4e09-987d-dfbc38a34a26",
   "metadata": {},
   "source": [
    "The cubs scored their least amount of runs in the year 2020 with a total of 265. A reason for this could be due to the low amount of games played that year, 60, compared to the years they scored a lot of runs, which had more than double the amount of games played."
   ]
  },
  {
   "cell_type": "markdown",
   "id": "38855dd0-ba35-4c72-b969-dba139503144",
   "metadata": {},
   "source": [
    "### Question 3: In how many seasons was the Cubs total attendance (i.e. the variable Attendance) over 3 million?"
   ]
  },
  {
   "cell_type": "code",
   "execution_count": 44,
   "id": "c72ba9c5-04cb-41e5-8dfc-a7c06afd1619",
   "metadata": {},
   "outputs": [
    {
     "data": {
      "text/html": [
       "<div>\n",
       "<style scoped>\n",
       "    .dataframe tbody tr th:only-of-type {\n",
       "        vertical-align: middle;\n",
       "    }\n",
       "\n",
       "    .dataframe tbody tr th {\n",
       "        vertical-align: top;\n",
       "    }\n",
       "\n",
       "    .dataframe thead th {\n",
       "        text-align: right;\n",
       "    }\n",
       "</style>\n",
       "<table border=\"1\" class=\"dataframe\">\n",
       "  <thead>\n",
       "    <tr style=\"text-align: right;\">\n",
       "      <th></th>\n",
       "      <th>Year</th>\n",
       "      <th>Games</th>\n",
       "      <th>Wins</th>\n",
       "      <th>Losses</th>\n",
       "      <th>Attendance</th>\n",
       "    </tr>\n",
       "  </thead>\n",
       "  <tbody>\n",
       "    <tr>\n",
       "      <th>0</th>\n",
       "      <td>2019</td>\n",
       "      <td>162</td>\n",
       "      <td>84</td>\n",
       "      <td>78</td>\n",
       "      <td>3094865.0</td>\n",
       "    </tr>\n",
       "    <tr>\n",
       "      <th>1</th>\n",
       "      <td>2018</td>\n",
       "      <td>163</td>\n",
       "      <td>95</td>\n",
       "      <td>68</td>\n",
       "      <td>3181089.0</td>\n",
       "    </tr>\n",
       "    <tr>\n",
       "      <th>2</th>\n",
       "      <td>2017</td>\n",
       "      <td>162</td>\n",
       "      <td>92</td>\n",
       "      <td>70</td>\n",
       "      <td>3199562.0</td>\n",
       "    </tr>\n",
       "    <tr>\n",
       "      <th>3</th>\n",
       "      <td>2016</td>\n",
       "      <td>162</td>\n",
       "      <td>103</td>\n",
       "      <td>58</td>\n",
       "      <td>3232420.0</td>\n",
       "    </tr>\n",
       "    <tr>\n",
       "      <th>4</th>\n",
       "      <td>2011</td>\n",
       "      <td>162</td>\n",
       "      <td>71</td>\n",
       "      <td>91</td>\n",
       "      <td>3017966.0</td>\n",
       "    </tr>\n",
       "    <tr>\n",
       "      <th>5</th>\n",
       "      <td>2010</td>\n",
       "      <td>162</td>\n",
       "      <td>75</td>\n",
       "      <td>87</td>\n",
       "      <td>3062973.0</td>\n",
       "    </tr>\n",
       "    <tr>\n",
       "      <th>6</th>\n",
       "      <td>2009</td>\n",
       "      <td>161</td>\n",
       "      <td>83</td>\n",
       "      <td>78</td>\n",
       "      <td>3168859.0</td>\n",
       "    </tr>\n",
       "    <tr>\n",
       "      <th>7</th>\n",
       "      <td>2008</td>\n",
       "      <td>161</td>\n",
       "      <td>97</td>\n",
       "      <td>64</td>\n",
       "      <td>3300200.0</td>\n",
       "    </tr>\n",
       "    <tr>\n",
       "      <th>8</th>\n",
       "      <td>2007</td>\n",
       "      <td>162</td>\n",
       "      <td>85</td>\n",
       "      <td>77</td>\n",
       "      <td>3252462.0</td>\n",
       "    </tr>\n",
       "    <tr>\n",
       "      <th>9</th>\n",
       "      <td>2006</td>\n",
       "      <td>162</td>\n",
       "      <td>66</td>\n",
       "      <td>96</td>\n",
       "      <td>3123215.0</td>\n",
       "    </tr>\n",
       "    <tr>\n",
       "      <th>10</th>\n",
       "      <td>2005</td>\n",
       "      <td>162</td>\n",
       "      <td>79</td>\n",
       "      <td>83</td>\n",
       "      <td>3099992.0</td>\n",
       "    </tr>\n",
       "    <tr>\n",
       "      <th>11</th>\n",
       "      <td>2004</td>\n",
       "      <td>162</td>\n",
       "      <td>89</td>\n",
       "      <td>73</td>\n",
       "      <td>3170154.0</td>\n",
       "    </tr>\n",
       "  </tbody>\n",
       "</table>\n",
       "</div>"
      ],
      "text/plain": [
       "    Year  Games  Wins  Losses  Attendance\n",
       "0   2019    162    84      78   3094865.0\n",
       "1   2018    163    95      68   3181089.0\n",
       "2   2017    162    92      70   3199562.0\n",
       "3   2016    162   103      58   3232420.0\n",
       "4   2011    162    71      91   3017966.0\n",
       "5   2010    162    75      87   3062973.0\n",
       "6   2009    161    83      78   3168859.0\n",
       "7   2008    161    97      64   3300200.0\n",
       "8   2007    162    85      77   3252462.0\n",
       "9   2006    162    66      96   3123215.0\n",
       "10  2005    162    79      83   3099992.0\n",
       "11  2004    162    89      73   3170154.0"
      ]
     },
     "execution_count": 44,
     "metadata": {},
     "output_type": "execute_result"
    }
   ],
   "source": [
    "cubs_filtered_attendance = cubs.loc[cubs.Attendance > 3000000, [\"Year\", \"Games\", \"Wins\", \"Losses\", \"Attendance\"]]\n",
    "cubs_filtered_attendance.reset_index(drop = True) # Done solely to clearly show the number of rows"
   ]
  },
  {
   "cell_type": "code",
   "execution_count": 45,
   "id": "53873305-c26d-4136-95d1-857742eefd99",
   "metadata": {},
   "outputs": [
    {
     "data": {
      "text/plain": [
       "12"
      ]
     },
     "execution_count": 45,
     "metadata": {},
     "output_type": "execute_result"
    }
   ],
   "source": [
    "cubs_filtered_attendance.shape[0]"
   ]
  },
  {
   "cell_type": "markdown",
   "id": "e6db0cde-838c-4d12-8e84-4a2b7fad4065",
   "metadata": {},
   "source": [
    "After filtering the data set we end up with a data frame with 12 rows, also confirmed with shape()[0] returning 12, thus we can conclude that there were 12 years/seasons where the cubs had an attendance of over 3 million."
   ]
  }
 ],
 "metadata": {
  "kernelspec": {
   "display_name": "Python 3 (ipykernel)",
   "language": "python",
   "name": "python3"
  },
  "language_info": {
   "codemirror_mode": {
    "name": "ipython",
    "version": 3
   },
   "file_extension": ".py",
   "mimetype": "text/x-python",
   "name": "python",
   "nbconvert_exporter": "python",
   "pygments_lexer": "ipython3",
   "version": "3.11.5"
  }
 },
 "nbformat": 4,
 "nbformat_minor": 5
}
